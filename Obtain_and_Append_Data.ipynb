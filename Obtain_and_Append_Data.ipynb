{
 "cells": [
  {
   "cell_type": "markdown",
   "metadata": {},
   "source": [
    "# Obtain and Append Data\n",
    "\n",
    "This notebook contains code to obtain and append financial data to avoid going over API request limits."
   ]
  },
  {
   "cell_type": "code",
   "execution_count": 1,
   "metadata": {},
   "outputs": [],
   "source": [
    "import pandas as pd\n",
    "from datetime import date\n",
    "from datetime import timedelta\n",
    "import plotly.graph_objects as go\n",
    "\n",
    "import requests\n",
    "import json\n",
    "import matplotlib.pyplot as plt\n",
    "import matplotlib.dates as mdates\n",
    "import matplotlib.ticker as ticker\n",
    "\n",
    "import numpy as np\n",
    "from IPython.display import clear_output\n",
    "import time\n",
    "# Set plot space as inline for inline plots and qt for external plots\n",
    "%matplotlib inline"
   ]
  },
  {
   "cell_type": "code",
   "execution_count": 2,
   "metadata": {},
   "outputs": [
    {
     "name": "stdout",
     "output_type": "stream",
     "text": [
      "3.8.3\n"
     ]
    }
   ],
   "source": [
    "import platform\n",
    "print(platform.python_version())"
   ]
  },
  {
   "cell_type": "code",
   "execution_count": 3,
   "metadata": {},
   "outputs": [],
   "source": [
    "# Obtain the API credentials from an external hidden file\n",
    "\n",
    "from passwords import api_key"
   ]
  },
  {
   "cell_type": "code",
   "execution_count": 4,
   "metadata": {},
   "outputs": [],
   "source": [
    "# A function to obtain price history\n",
    "\n",
    "#Utilizing \"UniBit API\" by Vincent Jiang\n",
    "#Site: https://unibit.ai/product\n",
    "\n",
    "#Errors may occur if credits run out, add an error code check to this function\n",
    "\n",
    "def retrieve_ticker_price_info(ticker, start_date, end_date = False):\n",
    "    \n",
    "    # Obtain today's date\n",
    "    today = date.today()\n",
    "    \n",
    "    # A condition to set the end date to today if there is no end date given\n",
    "    if not end_date:\n",
    "        end_date = today\n",
    "    \n",
    "    \n",
    "    url = 'https://api.unibit.ai/v2/stock/historical/?tickers={}&interval=1&startDate={}&endDate={}&selectedFields=all&dataType=json&accessKey={}'.format(ticker, start_date, end_date, api_key)\n",
    "    \n",
    "    response = requests.get(url)\n",
    "    \n",
    "    if response.status_code != 200:\n",
    "        print(\"The response status code is: \" + str(response.status_code))\n",
    "        return None\n",
    "    \n",
    "    return response.json()\n",
    "    "
   ]
  },
  {
   "cell_type": "code",
   "execution_count": 5,
   "metadata": {},
   "outputs": [],
   "source": [
    "def retrieve_price_history_dataframe(ticker, ticker_price_history):\n",
    "    \n",
    "    data_frame = pd.DataFrame(ticker_price_history['result_data'][ticker])\n",
    "    \n",
    "    # Set the index to the 'date' column\n",
    "    data_frame.set_index('date', inplace = True)\n",
    "    \n",
    "    data_frame.sort_index(inplace=True)\n",
    "    \n",
    "    return data_frame"
   ]
  },
  {
   "cell_type": "code",
   "execution_count": 8,
   "metadata": {},
   "outputs": [],
   "source": [
    "today = date.today()\n",
    "a_year_ago = str(date.today() - timedelta(days=1*365))"
   ]
  },
  {
   "cell_type": "markdown",
   "metadata": {},
   "source": [
    "## Obtain Original Data from the API"
   ]
  },
  {
   "cell_type": "code",
   "execution_count": 9,
   "metadata": {
    "scrolled": true
   },
   "outputs": [
    {
     "data": {
      "text/html": [
       "<div>\n",
       "<style scoped>\n",
       "    .dataframe tbody tr th:only-of-type {\n",
       "        vertical-align: middle;\n",
       "    }\n",
       "\n",
       "    .dataframe tbody tr th {\n",
       "        vertical-align: top;\n",
       "    }\n",
       "\n",
       "    .dataframe thead th {\n",
       "        text-align: right;\n",
       "    }\n",
       "</style>\n",
       "<table border=\"1\" class=\"dataframe\">\n",
       "  <thead>\n",
       "    <tr style=\"text-align: right;\">\n",
       "      <th></th>\n",
       "      <th>volume</th>\n",
       "      <th>high</th>\n",
       "      <th>low</th>\n",
       "      <th>adj_close</th>\n",
       "      <th>close</th>\n",
       "      <th>open</th>\n",
       "    </tr>\n",
       "    <tr>\n",
       "      <th>date</th>\n",
       "      <th></th>\n",
       "      <th></th>\n",
       "      <th></th>\n",
       "      <th></th>\n",
       "      <th></th>\n",
       "      <th></th>\n",
       "    </tr>\n",
       "  </thead>\n",
       "  <tbody>\n",
       "    <tr>\n",
       "      <th>2019-07-22</th>\n",
       "      <td>3003720000</td>\n",
       "      <td>2990.71</td>\n",
       "      <td>2976.65</td>\n",
       "      <td>2985.03</td>\n",
       "      <td>2985.03</td>\n",
       "      <td>2981.93</td>\n",
       "    </tr>\n",
       "    <tr>\n",
       "      <th>2019-07-23</th>\n",
       "      <td>3313660000</td>\n",
       "      <td>3005.90</td>\n",
       "      <td>2988.56</td>\n",
       "      <td>3005.47</td>\n",
       "      <td>3005.47</td>\n",
       "      <td>2994.74</td>\n",
       "    </tr>\n",
       "    <tr>\n",
       "      <th>2019-07-24</th>\n",
       "      <td>3428980000</td>\n",
       "      <td>3019.59</td>\n",
       "      <td>2996.82</td>\n",
       "      <td>3019.56</td>\n",
       "      <td>3019.56</td>\n",
       "      <td>2998.77</td>\n",
       "    </tr>\n",
       "    <tr>\n",
       "      <th>2019-07-25</th>\n",
       "      <td>3645270000</td>\n",
       "      <td>3016.31</td>\n",
       "      <td>2997.24</td>\n",
       "      <td>3003.67</td>\n",
       "      <td>3003.67</td>\n",
       "      <td>3016.26</td>\n",
       "    </tr>\n",
       "    <tr>\n",
       "      <th>2019-07-26</th>\n",
       "      <td>3257590000</td>\n",
       "      <td>3027.98</td>\n",
       "      <td>3012.59</td>\n",
       "      <td>3025.86</td>\n",
       "      <td>3025.86</td>\n",
       "      <td>3013.25</td>\n",
       "    </tr>\n",
       "  </tbody>\n",
       "</table>\n",
       "</div>"
      ],
      "text/plain": [
       "                volume     high      low  adj_close    close     open\n",
       "date                                                                 \n",
       "2019-07-22  3003720000  2990.71  2976.65    2985.03  2985.03  2981.93\n",
       "2019-07-23  3313660000  3005.90  2988.56    3005.47  3005.47  2994.74\n",
       "2019-07-24  3428980000  3019.59  2996.82    3019.56  3019.56  2998.77\n",
       "2019-07-25  3645270000  3016.31  2997.24    3003.67  3003.67  3016.26\n",
       "2019-07-26  3257590000  3027.98  3012.59    3025.86  3025.86  3013.25"
      ]
     },
     "execution_count": 9,
     "metadata": {},
     "output_type": "execute_result"
    }
   ],
   "source": [
    "# The S&P 500 company ticker is ^GSPC\n",
    "\n",
    "# Obtain the price info\n",
    "inx_info = retrieve_ticker_price_info('^GSPC', a_year_ago)\n",
    "\n",
    "# Create and view the dataframe\n",
    "inx_df = retrieve_price_history_dataframe('^GSPC', inx_info)\n",
    "inx_df.head()"
   ]
  },
  {
   "cell_type": "code",
   "execution_count": 11,
   "metadata": {},
   "outputs": [],
   "source": [
    "# Save the data as a csv\n",
    "# Keep the index as it contains the dates\n",
    "inx_df.to_csv('financial_data/GSPC.csv')"
   ]
  },
  {
   "cell_type": "markdown",
   "metadata": {},
   "source": [
    "## Import a CSV of Time Series Data\n",
    "\n",
    "This code assumes the data is in ascending order, if this is not the case then make the relevant adjustments. "
   ]
  },
  {
   "cell_type": "code",
   "execution_count": 37,
   "metadata": {
    "scrolled": true
   },
   "outputs": [
    {
     "data": {
      "text/html": [
       "<div>\n",
       "<style scoped>\n",
       "    .dataframe tbody tr th:only-of-type {\n",
       "        vertical-align: middle;\n",
       "    }\n",
       "\n",
       "    .dataframe tbody tr th {\n",
       "        vertical-align: top;\n",
       "    }\n",
       "\n",
       "    .dataframe thead th {\n",
       "        text-align: right;\n",
       "    }\n",
       "</style>\n",
       "<table border=\"1\" class=\"dataframe\">\n",
       "  <thead>\n",
       "    <tr style=\"text-align: right;\">\n",
       "      <th></th>\n",
       "      <th>volume</th>\n",
       "      <th>high</th>\n",
       "      <th>low</th>\n",
       "      <th>adj_close</th>\n",
       "      <th>close</th>\n",
       "      <th>open</th>\n",
       "    </tr>\n",
       "    <tr>\n",
       "      <th>date</th>\n",
       "      <th></th>\n",
       "      <th></th>\n",
       "      <th></th>\n",
       "      <th></th>\n",
       "      <th></th>\n",
       "      <th></th>\n",
       "    </tr>\n",
       "  </thead>\n",
       "  <tbody>\n",
       "    <tr>\n",
       "      <th>2019-07-22</th>\n",
       "      <td>3003720000</td>\n",
       "      <td>2990.71</td>\n",
       "      <td>2976.65</td>\n",
       "      <td>2985.03</td>\n",
       "      <td>2985.03</td>\n",
       "      <td>2981.93</td>\n",
       "    </tr>\n",
       "    <tr>\n",
       "      <th>2019-07-23</th>\n",
       "      <td>3313660000</td>\n",
       "      <td>3005.90</td>\n",
       "      <td>2988.56</td>\n",
       "      <td>3005.47</td>\n",
       "      <td>3005.47</td>\n",
       "      <td>2994.74</td>\n",
       "    </tr>\n",
       "    <tr>\n",
       "      <th>2019-07-24</th>\n",
       "      <td>3428980000</td>\n",
       "      <td>3019.59</td>\n",
       "      <td>2996.82</td>\n",
       "      <td>3019.56</td>\n",
       "      <td>3019.56</td>\n",
       "      <td>2998.77</td>\n",
       "    </tr>\n",
       "    <tr>\n",
       "      <th>2019-07-25</th>\n",
       "      <td>3645270000</td>\n",
       "      <td>3016.31</td>\n",
       "      <td>2997.24</td>\n",
       "      <td>3003.67</td>\n",
       "      <td>3003.67</td>\n",
       "      <td>3016.26</td>\n",
       "    </tr>\n",
       "    <tr>\n",
       "      <th>2019-07-26</th>\n",
       "      <td>3257590000</td>\n",
       "      <td>3027.98</td>\n",
       "      <td>3012.59</td>\n",
       "      <td>3025.86</td>\n",
       "      <td>3025.86</td>\n",
       "      <td>3013.25</td>\n",
       "    </tr>\n",
       "  </tbody>\n",
       "</table>\n",
       "</div>"
      ],
      "text/plain": [
       "                volume     high      low  adj_close    close     open\n",
       "date                                                                 \n",
       "2019-07-22  3003720000  2990.71  2976.65    2985.03  2985.03  2981.93\n",
       "2019-07-23  3313660000  3005.90  2988.56    3005.47  3005.47  2994.74\n",
       "2019-07-24  3428980000  3019.59  2996.82    3019.56  3019.56  2998.77\n",
       "2019-07-25  3645270000  3016.31  2997.24    3003.67  3003.67  3016.26\n",
       "2019-07-26  3257590000  3027.98  3012.59    3025.86  3025.86  3013.25"
      ]
     },
     "execution_count": 37,
     "metadata": {},
     "output_type": "execute_result"
    }
   ],
   "source": [
    "inx_df = pd.read_csv('financial_data/GSPC.csv', index_col = 'date')\n",
    "\n",
    "# Convert index to date\n",
    "# Comment this out if the index is already date type\n",
    "inx_df.index = pd.to_datetime(inx_df.index)\n",
    "\n",
    "inx_df.head()"
   ]
  },
  {
   "cell_type": "code",
   "execution_count": 33,
   "metadata": {
    "scrolled": true
   },
   "outputs": [
    {
     "data": {
      "text/plain": [
       "Timestamp('2020-06-30 00:00:00')"
      ]
     },
     "execution_count": 33,
     "metadata": {},
     "output_type": "execute_result"
    }
   ],
   "source": [
    "# Obtain the most recent date\n",
    "inx_df.index.max()"
   ]
  },
  {
   "cell_type": "markdown",
   "metadata": {},
   "source": [
    "## Obtain Most Recent Data From The API"
   ]
  },
  {
   "cell_type": "code",
   "execution_count": 43,
   "metadata": {},
   "outputs": [],
   "source": [
    "# Obtain the next day after the series ends, as a string\n",
    "next_day_series_ends = str(inx_df.index.max().date() + timedelta(days=1))"
   ]
  },
  {
   "cell_type": "code",
   "execution_count": null,
   "metadata": {},
   "outputs": [],
   "source": [
    "# The S&P 500 company ticker is ^GSPC\n",
    "\n",
    "# Obtain the price info\n",
    "inx_info = retrieve_ticker_price_info('^GSPC', a_year_ago)\n",
    "\n",
    "# Create and view the dataframe\n",
    "inx_df = retrieve_price_history_dataframe('^GSPC', inx_info)\n",
    "inx_df.head()"
   ]
  }
 ],
 "metadata": {
  "kernelspec": {
   "display_name": "Python 3",
   "language": "python",
   "name": "python3"
  },
  "language_info": {
   "codemirror_mode": {
    "name": "ipython",
    "version": 3
   },
   "file_extension": ".py",
   "mimetype": "text/x-python",
   "name": "python",
   "nbconvert_exporter": "python",
   "pygments_lexer": "ipython3",
   "version": "3.8.3"
  }
 },
 "nbformat": 4,
 "nbformat_minor": 4
}
