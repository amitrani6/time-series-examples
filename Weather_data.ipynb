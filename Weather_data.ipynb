{
 "cells": [
  {
   "cell_type": "code",
   "execution_count": 9,
   "metadata": {},
   "outputs": [],
   "source": [
    "import pandas as pd\n",
    "import numpy as np\n",
    "\n",
    "import matplotlib.pyplot as plt"
   ]
  },
  {
   "cell_type": "code",
   "execution_count": 18,
   "metadata": {},
   "outputs": [
    {
     "data": {
      "text/html": [
       "<div>\n",
       "<style scoped>\n",
       "    .dataframe tbody tr th:only-of-type {\n",
       "        vertical-align: middle;\n",
       "    }\n",
       "\n",
       "    .dataframe tbody tr th {\n",
       "        vertical-align: top;\n",
       "    }\n",
       "\n",
       "    .dataframe thead th {\n",
       "        text-align: right;\n",
       "    }\n",
       "</style>\n",
       "<table border=\"1\" class=\"dataframe\">\n",
       "  <thead>\n",
       "    <tr style=\"text-align: right;\">\n",
       "      <th></th>\n",
       "      <th>Date</th>\n",
       "      <th>Temp_Max</th>\n",
       "      <th>Temp_Avg</th>\n",
       "      <th>Temp_Min</th>\n",
       "      <th>Humidity_Max</th>\n",
       "      <th>Humidity_Avg</th>\n",
       "      <th>Humidity_Min</th>\n",
       "      <th>Precipitation (in)_Total</th>\n",
       "      <th>Rain</th>\n",
       "    </tr>\n",
       "  </thead>\n",
       "  <tbody>\n",
       "    <tr>\n",
       "      <th>36</th>\n",
       "      <td>12/7/19</td>\n",
       "      <td>38</td>\n",
       "      <td>35.7</td>\n",
       "      <td>32</td>\n",
       "      <td>57</td>\n",
       "      <td>48.5</td>\n",
       "      <td>38</td>\n",
       "      <td>0.00</td>\n",
       "      <td>0</td>\n",
       "    </tr>\n",
       "    <tr>\n",
       "      <th>37</th>\n",
       "      <td>12/8/19</td>\n",
       "      <td>44</td>\n",
       "      <td>36.7</td>\n",
       "      <td>28</td>\n",
       "      <td>68</td>\n",
       "      <td>56.2</td>\n",
       "      <td>43</td>\n",
       "      <td>0.00</td>\n",
       "      <td>0</td>\n",
       "    </tr>\n",
       "    <tr>\n",
       "      <th>38</th>\n",
       "      <td>12/9/19</td>\n",
       "      <td>56</td>\n",
       "      <td>47.8</td>\n",
       "      <td>41</td>\n",
       "      <td>93</td>\n",
       "      <td>88.2</td>\n",
       "      <td>73</td>\n",
       "      <td>0.17</td>\n",
       "      <td>1</td>\n",
       "    </tr>\n",
       "    <tr>\n",
       "      <th>39</th>\n",
       "      <td>12/10/19</td>\n",
       "      <td>58</td>\n",
       "      <td>54.2</td>\n",
       "      <td>40</td>\n",
       "      <td>88</td>\n",
       "      <td>77.5</td>\n",
       "      <td>57</td>\n",
       "      <td>1.63</td>\n",
       "      <td>1</td>\n",
       "    </tr>\n",
       "    <tr>\n",
       "      <th>40</th>\n",
       "      <td>12/11/19</td>\n",
       "      <td>40</td>\n",
       "      <td>35.3</td>\n",
       "      <td>32</td>\n",
       "      <td>92</td>\n",
       "      <td>76.5</td>\n",
       "      <td>42</td>\n",
       "      <td>0.43</td>\n",
       "      <td>1</td>\n",
       "    </tr>\n",
       "  </tbody>\n",
       "</table>\n",
       "</div>"
      ],
      "text/plain": [
       "        Date  Temp_Max  Temp_Avg  Temp_Min  Humidity_Max  Humidity_Avg  \\\n",
       "36   12/7/19        38      35.7        32            57          48.5   \n",
       "37   12/8/19        44      36.7        28            68          56.2   \n",
       "38   12/9/19        56      47.8        41            93          88.2   \n",
       "39  12/10/19        58      54.2        40            88          77.5   \n",
       "40  12/11/19        40      35.3        32            92          76.5   \n",
       "\n",
       "    Humidity_Min  Precipitation (in)_Total  Rain  \n",
       "36            38                      0.00     0  \n",
       "37            43                      0.00     0  \n",
       "38            73                      0.17     1  \n",
       "39            57                      1.63     1  \n",
       "40            42                      0.43     1  "
      ]
     },
     "execution_count": 18,
     "metadata": {},
     "output_type": "execute_result"
    }
   ],
   "source": [
    "weather = pd.read_csv('data_files/supporting_data/nyc weather observances.csv')\n",
    "weather.tail()"
   ]
  },
  {
   "cell_type": "code",
   "execution_count": 3,
   "metadata": {},
   "outputs": [],
   "source": [
    "weather_avg_temp = weather.copy()"
   ]
  },
  {
   "cell_type": "code",
   "execution_count": 4,
   "metadata": {},
   "outputs": [],
   "source": [
    "#weather_avg_temp.at[1,'Temp_Avg']= np.NaN"
   ]
  },
  {
   "cell_type": "code",
   "execution_count": 5,
   "metadata": {},
   "outputs": [],
   "source": [
    "# Convert 'Date' column values to datetime data type\n",
    "weather_avg_temp.Date = pd.to_datetime(weather_avg_temp.Date)"
   ]
  },
  {
   "cell_type": "code",
   "execution_count": 6,
   "metadata": {},
   "outputs": [],
   "source": [
    "weather_avg_temp.set_index('Date', inplace = True)"
   ]
  },
  {
   "cell_type": "code",
   "execution_count": 7,
   "metadata": {},
   "outputs": [
    {
     "data": {
      "text/html": [
       "<div>\n",
       "<style scoped>\n",
       "    .dataframe tbody tr th:only-of-type {\n",
       "        vertical-align: middle;\n",
       "    }\n",
       "\n",
       "    .dataframe tbody tr th {\n",
       "        vertical-align: top;\n",
       "    }\n",
       "\n",
       "    .dataframe thead th {\n",
       "        text-align: right;\n",
       "    }\n",
       "</style>\n",
       "<table border=\"1\" class=\"dataframe\">\n",
       "  <thead>\n",
       "    <tr style=\"text-align: right;\">\n",
       "      <th></th>\n",
       "      <th>Temp_Max</th>\n",
       "      <th>Temp_Avg</th>\n",
       "      <th>Temp_Min</th>\n",
       "      <th>Humidity_Max</th>\n",
       "      <th>Humidity_Avg</th>\n",
       "      <th>Humidity_Min</th>\n",
       "      <th>Precipitation (in)_Total</th>\n",
       "      <th>Rain</th>\n",
       "    </tr>\n",
       "    <tr>\n",
       "      <th>Date</th>\n",
       "      <th></th>\n",
       "      <th></th>\n",
       "      <th></th>\n",
       "      <th></th>\n",
       "      <th></th>\n",
       "      <th></th>\n",
       "      <th></th>\n",
       "      <th></th>\n",
       "    </tr>\n",
       "  </thead>\n",
       "  <tbody>\n",
       "    <tr>\n",
       "      <th>2019-11-01</th>\n",
       "      <td>66</td>\n",
       "      <td>52.1</td>\n",
       "      <td>44</td>\n",
       "      <td>96</td>\n",
       "      <td>58.0</td>\n",
       "      <td>38</td>\n",
       "      <td>0.2</td>\n",
       "      <td>1</td>\n",
       "    </tr>\n",
       "    <tr>\n",
       "      <th>2019-11-02</th>\n",
       "      <td>50</td>\n",
       "      <td>45.5</td>\n",
       "      <td>40</td>\n",
       "      <td>71</td>\n",
       "      <td>58.8</td>\n",
       "      <td>46</td>\n",
       "      <td>0.0</td>\n",
       "      <td>0</td>\n",
       "    </tr>\n",
       "    <tr>\n",
       "      <th>2019-11-03</th>\n",
       "      <td>52</td>\n",
       "      <td>47.7</td>\n",
       "      <td>44</td>\n",
       "      <td>56</td>\n",
       "      <td>47.7</td>\n",
       "      <td>38</td>\n",
       "      <td>0.0</td>\n",
       "      <td>0</td>\n",
       "    </tr>\n",
       "    <tr>\n",
       "      <th>2019-11-04</th>\n",
       "      <td>55</td>\n",
       "      <td>50.3</td>\n",
       "      <td>43</td>\n",
       "      <td>61</td>\n",
       "      <td>48.4</td>\n",
       "      <td>35</td>\n",
       "      <td>0.0</td>\n",
       "      <td>0</td>\n",
       "    </tr>\n",
       "    <tr>\n",
       "      <th>2019-11-05</th>\n",
       "      <td>61</td>\n",
       "      <td>56.7</td>\n",
       "      <td>51</td>\n",
       "      <td>80</td>\n",
       "      <td>63.9</td>\n",
       "      <td>42</td>\n",
       "      <td>0.0</td>\n",
       "      <td>0</td>\n",
       "    </tr>\n",
       "  </tbody>\n",
       "</table>\n",
       "</div>"
      ],
      "text/plain": [
       "            Temp_Max  Temp_Avg  Temp_Min  Humidity_Max  Humidity_Avg  \\\n",
       "Date                                                                   \n",
       "2019-11-01        66      52.1        44            96          58.0   \n",
       "2019-11-02        50      45.5        40            71          58.8   \n",
       "2019-11-03        52      47.7        44            56          47.7   \n",
       "2019-11-04        55      50.3        43            61          48.4   \n",
       "2019-11-05        61      56.7        51            80          63.9   \n",
       "\n",
       "            Humidity_Min  Precipitation (in)_Total  Rain  \n",
       "Date                                                      \n",
       "2019-11-01            38                       0.2     1  \n",
       "2019-11-02            46                       0.0     0  \n",
       "2019-11-03            38                       0.0     0  \n",
       "2019-11-04            35                       0.0     0  \n",
       "2019-11-05            42                       0.0     0  "
      ]
     },
     "execution_count": 7,
     "metadata": {},
     "output_type": "execute_result"
    }
   ],
   "source": [
    "weather_avg_temp.head()"
   ]
  },
  {
   "cell_type": "code",
   "execution_count": 17,
   "metadata": {},
   "outputs": [
    {
     "data": {
      "image/png": "[encoded data removed]",
      "text/plain": [
       "<Figure size 1440x432 with 1 Axes>"
      ]
     },
     "metadata": {
      "needs_background": "light"
     },
     "output_type": "display_data"
    }
   ],
   "source": [
    "weather_avg_temp['Temp_Avg'].plot(figsize = (20,6), style = \".b\")\n",
    "font = {'family' : 'normal',\n",
    "        'weight' : 'bold',\n",
    "        'size'   : 22}\n",
    "\n",
    "plt.rcParams.update({'font.size': 22})\n",
    "\n",
    "plt.title(\"NYC DAILY TEMPERATURE\", fontdict=None, loc='center', pad=None)\n",
    "plt.show()"
   ]
  },
  {
   "cell_type": "code",
   "execution_count": null,
   "metadata": {},
   "outputs": [],
   "source": []
  }
 ],
 "metadata": {
  "kernelspec": {
   "display_name": "Python 3",
   "language": "python",
   "name": "python3"
  },
  "language_info": {
   "codemirror_mode": {
    "name": "ipython",
    "version": 3
   },
   "file_extension": ".py",
   "mimetype": "text/x-python",
   "name": "python",
   "nbconvert_exporter": "python",
   "pygments_lexer": "ipython3",
   "version": "3.8.3"
  }
 },
 "nbformat": 4,
 "nbformat_minor": 2
}
