{
 "cells": [
  {
   "cell_type": "markdown",
   "metadata": {},
   "source": [
    "# Time Series Modeling Examples"
   ]
  },
  {
   "cell_type": "code",
   "execution_count": 1,
   "metadata": {},
   "outputs": [],
   "source": [
    "import pandas as pd\n",
    "from datetime import date\n",
    "from datetime import timedelta\n",
    "import plotly.graph_objects as go\n",
    "\n",
    "import requests\n",
    "import json\n",
    "import matplotlib.pyplot as plt\n",
    "import matplotlib.dates as mdates\n",
    "import matplotlib.ticker as ticker\n",
    "\n",
    "import numpy as np\n",
    "from IPython.display import clear_output\n",
    "import time\n",
    "\n",
    "\n",
    "# Set plot space as inline for inline plots and qt for external plots\n",
    "%matplotlib inline\n",
    "\n",
    "from statsmodels.tsa.seasonal import seasonal_decompose"
   ]
  },
  {
   "cell_type": "markdown",
   "metadata": {},
   "source": [
    "## Read in the Data"
   ]
  },
  {
   "cell_type": "code",
   "execution_count": 2,
   "metadata": {},
   "outputs": [
    {
     "data": {
      "text/html": [
       "<div>\n",
       "<style scoped>\n",
       "    .dataframe tbody tr th:only-of-type {\n",
       "        vertical-align: middle;\n",
       "    }\n",
       "\n",
       "    .dataframe tbody tr th {\n",
       "        vertical-align: top;\n",
       "    }\n",
       "\n",
       "    .dataframe thead th {\n",
       "        text-align: right;\n",
       "    }\n",
       "</style>\n",
       "<table border=\"1\" class=\"dataframe\">\n",
       "  <thead>\n",
       "    <tr style=\"text-align: right;\">\n",
       "      <th></th>\n",
       "      <th>date</th>\n",
       "      <th>volume</th>\n",
       "      <th>high</th>\n",
       "      <th>low</th>\n",
       "      <th>adj_close</th>\n",
       "      <th>close</th>\n",
       "      <th>open</th>\n",
       "    </tr>\n",
       "  </thead>\n",
       "  <tbody>\n",
       "    <tr>\n",
       "      <th>0</th>\n",
       "      <td>2019-07-22</td>\n",
       "      <td>3003720000</td>\n",
       "      <td>2990.71</td>\n",
       "      <td>2976.65</td>\n",
       "      <td>2985.03</td>\n",
       "      <td>2985.03</td>\n",
       "      <td>2981.93</td>\n",
       "    </tr>\n",
       "    <tr>\n",
       "      <th>1</th>\n",
       "      <td>2019-07-23</td>\n",
       "      <td>3313660000</td>\n",
       "      <td>3005.90</td>\n",
       "      <td>2988.56</td>\n",
       "      <td>3005.47</td>\n",
       "      <td>3005.47</td>\n",
       "      <td>2994.74</td>\n",
       "    </tr>\n",
       "    <tr>\n",
       "      <th>2</th>\n",
       "      <td>2019-07-24</td>\n",
       "      <td>3428980000</td>\n",
       "      <td>3019.59</td>\n",
       "      <td>2996.82</td>\n",
       "      <td>3019.56</td>\n",
       "      <td>3019.56</td>\n",
       "      <td>2998.77</td>\n",
       "    </tr>\n",
       "    <tr>\n",
       "      <th>3</th>\n",
       "      <td>2019-07-25</td>\n",
       "      <td>3645270000</td>\n",
       "      <td>3016.31</td>\n",
       "      <td>2997.24</td>\n",
       "      <td>3003.67</td>\n",
       "      <td>3003.67</td>\n",
       "      <td>3016.26</td>\n",
       "    </tr>\n",
       "    <tr>\n",
       "      <th>4</th>\n",
       "      <td>2019-07-26</td>\n",
       "      <td>3257590000</td>\n",
       "      <td>3027.98</td>\n",
       "      <td>3012.59</td>\n",
       "      <td>3025.86</td>\n",
       "      <td>3025.86</td>\n",
       "      <td>3013.25</td>\n",
       "    </tr>\n",
       "  </tbody>\n",
       "</table>\n",
       "</div>"
      ],
      "text/plain": [
       "         date      volume     high      low  adj_close    close     open\n",
       "0  2019-07-22  3003720000  2990.71  2976.65    2985.03  2985.03  2981.93\n",
       "1  2019-07-23  3313660000  3005.90  2988.56    3005.47  3005.47  2994.74\n",
       "2  2019-07-24  3428980000  3019.59  2996.82    3019.56  3019.56  2998.77\n",
       "3  2019-07-25  3645270000  3016.31  2997.24    3003.67  3003.67  3016.26\n",
       "4  2019-07-26  3257590000  3027.98  3012.59    3025.86  3025.86  3013.25"
      ]
     },
     "execution_count": 2,
     "metadata": {},
     "output_type": "execute_result"
    }
   ],
   "source": [
    "inx_df = pd.read_csv('financial_data/GSPC_newdata.csv')\n",
    "inx_df.head()"
   ]
  },
  {
   "cell_type": "code",
   "execution_count": null,
   "metadata": {},
   "outputs": [],
   "source": []
  },
  {
   "cell_type": "markdown",
   "metadata": {},
   "source": [
    "## Make the Data Stationary"
   ]
  },
  {
   "cell_type": "code",
   "execution_count": 4,
   "metadata": {},
   "outputs": [],
   "source": [
    "# Obtain the three series\n",
    "\n",
    "# frequency detection error: https://github.com/statsmodels/statsmodels/issues/3503\n",
    "decomposition = seasonal_decompose(inx_df['adj_close'], model='multiplicative', period = 5)\n",
    "\n",
    "trend = decomposition.trend\n",
    "seasonal = decomposition.seasonal\n",
    "residual = decomposition.resid"
   ]
  },
  {
   "cell_type": "code",
   "execution_count": null,
   "metadata": {},
   "outputs": [],
   "source": []
  }
 ],
 "metadata": {
  "kernelspec": {
   "display_name": "Python 3",
   "language": "python",
   "name": "python3"
  },
  "language_info": {
   "codemirror_mode": {
    "name": "ipython",
    "version": 3
   },
   "file_extension": ".py",
   "mimetype": "text/x-python",
   "name": "python",
   "nbconvert_exporter": "python",
   "pygments_lexer": "ipython3",
   "version": "3.8.3"
  }
 },
 "nbformat": 4,
 "nbformat_minor": 4
}
