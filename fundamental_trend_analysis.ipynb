{
 "cells": [
  {
   "cell_type": "markdown",
   "metadata": {},
   "source": [
    "# Fundamental Trend Analysis\n",
    "This notebook contains code for extracting fundamental data from an API and decomposing the series using the statsmodels library."
   ]
  },
  {
   "cell_type": "code",
   "execution_count": 1,
   "metadata": {},
   "outputs": [],
   "source": [
    "import pandas as pd\n",
    "from datetime import date\n",
    "from datetime import timedelta\n",
    "import plotly.graph_objects as go\n",
    "\n",
    "import requests\n",
    "import json\n",
    "import matplotlib.pyplot as plt\n",
    "import matplotlib.dates as mdates\n",
    "import matplotlib.ticker as ticker\n",
    "\n",
    "import numpy as np\n",
    "from IPython.display import clear_output\n",
    "import time\n",
    "# Set plot space as inline for inline plots and qt for external plots\n",
    "%matplotlib inline"
   ]
  },
  {
   "cell_type": "code",
   "execution_count": 2,
   "metadata": {},
   "outputs": [],
   "source": [
    "# Obtain the API credentials from an external hidden file\n",
    "\n",
    "from passwords import api_key"
   ]
  },
  {
   "cell_type": "markdown",
   "metadata": {},
   "source": [
    "## 1. Obtain the Raw Data From the API"
   ]
  },
  {
   "cell_type": "code",
   "execution_count": 3,
   "metadata": {},
   "outputs": [],
   "source": [
    "# A function to obtain fundamental data over time\n",
    "\n",
    "#Utilizing \"UniBit API\" by Vincent Jiang\n",
    "#Site: https://unibit.ai/product\n",
    "\n",
    "#Errors may occur if credits run out, add an error code check to this function\n",
    "\n",
    "def retrieve_ticker_price_info(ticker, interval, statement_type = None, start_date, end_date = False):\n",
    "    \n",
    "    # Obtain today's date\n",
    "    today = date.today()\n",
    "    \n",
    "    # A condition to set the end date to today if there is no end date given\n",
    "    if not end_date:\n",
    "        end_date = today\n",
    "        \n",
    "    if statement_type:\n",
    "        statement_type = '&statement=' + statement_type\n",
    "    \n",
    "    url = 'https://api.unibit.ai/v2/company/coreFinancials/?tickers={}&interval={}{}&startDate={}&endDate={}&dataType=json&accessKey={}'.format(ticker, interval, statement_type, start_date, end_date, api_key)\n",
    "    response = requests.get(url)\n",
    "    \n",
    "    if response.status_code != 200:\n",
    "        print(\"The response status code is: \" + str(response.status_code))\n",
    "        return None\n",
    "    \n",
    "    return response.json()"
   ]
  },
  {
   "cell_type": "code",
   "execution_count": null,
   "metadata": {},
   "outputs": [],
   "source": [
    "ticker = 'LOW'\n",
    "\n",
    "# Interval can be Annual (A), Quarterly (Q), or Trailing 12 Month (TTM)\n",
    "interval = 'Q'\n",
    "\n",
    "# Statement type can be \"IS\" (Income Statement), \"BS\" (Balance Sheet), or \"CF\" (Cash Flow). Default is \"IS\"\n",
    "statement_type = ''\n",
    "start_date = '2017-01-01'\n",
    "end_date = '2020-09-12'"
   ]
  }
 ],
 "metadata": {
  "kernelspec": {
   "display_name": "Python 3",
   "language": "python",
   "name": "python3"
  },
  "language_info": {
   "codemirror_mode": {
    "name": "ipython",
    "version": 3
   },
   "file_extension": ".py",
   "mimetype": "text/x-python",
   "name": "python",
   "nbconvert_exporter": "python",
   "pygments_lexer": "ipython3",
   "version": "3.8.3"
  }
 },
 "nbformat": 4,
 "nbformat_minor": 4
}
