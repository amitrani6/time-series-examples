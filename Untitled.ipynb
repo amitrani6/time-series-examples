{
 "cells": [
  {
   "cell_type": "markdown",
   "metadata": {},
   "source": [
    "# Time Series Data\n",
    "\n",
    "This notebook covers the basics of time series data utilizing the 10-year historical prices of the Campbell Soup Company. The data was obtained from Yahoo Finance (https://finance.yahoo.com/quote/CPB/history?p=CPB) on December 19, 2019."
   ]
  },
  {
   "cell_type": "code",
   "execution_count": 1,
   "metadata": {},
   "outputs": [],
   "source": [
    "import pandas as pd\n",
    "import numpy as np"
   ]
  },
  {
   "cell_type": "code",
   "execution_count": 2,
   "metadata": {},
   "outputs": [
    {
     "data": {
      "text/html": [
       "<div>\n",
       "<style scoped>\n",
       "    .dataframe tbody tr th:only-of-type {\n",
       "        vertical-align: middle;\n",
       "    }\n",
       "\n",
       "    .dataframe tbody tr th {\n",
       "        vertical-align: top;\n",
       "    }\n",
       "\n",
       "    .dataframe thead th {\n",
       "        text-align: right;\n",
       "    }\n",
       "</style>\n",
       "<table border=\"1\" class=\"dataframe\">\n",
       "  <thead>\n",
       "    <tr style=\"text-align: right;\">\n",
       "      <th></th>\n",
       "      <th>Date</th>\n",
       "      <th>Open</th>\n",
       "      <th>High</th>\n",
       "      <th>Low</th>\n",
       "      <th>Close</th>\n",
       "      <th>Adj Close</th>\n",
       "      <th>Volume</th>\n",
       "    </tr>\n",
       "  </thead>\n",
       "  <tbody>\n",
       "    <tr>\n",
       "      <th>0</th>\n",
       "      <td>2009-12-21</td>\n",
       "      <td>33.119999</td>\n",
       "      <td>33.480000</td>\n",
       "      <td>33.029999</td>\n",
       "      <td>33.470001</td>\n",
       "      <td>24.608217</td>\n",
       "      <td>1952800</td>\n",
       "    </tr>\n",
       "    <tr>\n",
       "      <th>1</th>\n",
       "      <td>2009-12-22</td>\n",
       "      <td>33.549999</td>\n",
       "      <td>33.799999</td>\n",
       "      <td>33.389999</td>\n",
       "      <td>33.779999</td>\n",
       "      <td>24.836138</td>\n",
       "      <td>1715700</td>\n",
       "    </tr>\n",
       "    <tr>\n",
       "      <th>2</th>\n",
       "      <td>2009-12-23</td>\n",
       "      <td>33.680000</td>\n",
       "      <td>34.369999</td>\n",
       "      <td>33.630001</td>\n",
       "      <td>34.340000</td>\n",
       "      <td>25.247873</td>\n",
       "      <td>2565000</td>\n",
       "    </tr>\n",
       "    <tr>\n",
       "      <th>3</th>\n",
       "      <td>2009-12-24</td>\n",
       "      <td>34.220001</td>\n",
       "      <td>34.520000</td>\n",
       "      <td>34.119999</td>\n",
       "      <td>34.509998</td>\n",
       "      <td>25.372852</td>\n",
       "      <td>1043700</td>\n",
       "    </tr>\n",
       "    <tr>\n",
       "      <th>4</th>\n",
       "      <td>2009-12-28</td>\n",
       "      <td>34.400002</td>\n",
       "      <td>34.400002</td>\n",
       "      <td>34.080002</td>\n",
       "      <td>34.270000</td>\n",
       "      <td>25.398802</td>\n",
       "      <td>1247800</td>\n",
       "    </tr>\n",
       "  </tbody>\n",
       "</table>\n",
       "</div>"
      ],
      "text/plain": [
       "         Date       Open       High        Low      Close  Adj Close   Volume\n",
       "0  2009-12-21  33.119999  33.480000  33.029999  33.470001  24.608217  1952800\n",
       "1  2009-12-22  33.549999  33.799999  33.389999  33.779999  24.836138  1715700\n",
       "2  2009-12-23  33.680000  34.369999  33.630001  34.340000  25.247873  2565000\n",
       "3  2009-12-24  34.220001  34.520000  34.119999  34.509998  25.372852  1043700\n",
       "4  2009-12-28  34.400002  34.400002  34.080002  34.270000  25.398802  1247800"
      ]
     },
     "execution_count": 2,
     "metadata": {},
     "output_type": "execute_result"
    }
   ],
   "source": [
    "cpb = pd.read_csv('price_data/CPB.csv')\n",
    "cpb.head()"
   ]
  },
  {
   "cell_type": "code",
   "execution_count": 3,
   "metadata": {
    "scrolled": true
   },
   "outputs": [
    {
     "name": "stdout",
     "output_type": "stream",
     "text": [
      "<class 'pandas.core.frame.DataFrame'>\n",
      "RangeIndex: 2516 entries, 0 to 2515\n",
      "Data columns (total 7 columns):\n",
      "Date         2516 non-null object\n",
      "Open         2516 non-null float64\n",
      "High         2516 non-null float64\n",
      "Low          2516 non-null float64\n",
      "Close        2516 non-null float64\n",
      "Adj Close    2516 non-null float64\n",
      "Volume       2516 non-null int64\n",
      "dtypes: float64(5), int64(1), object(1)\n",
      "memory usage: 137.7+ KB\n"
     ]
    }
   ],
   "source": [
    "cpb.info()"
   ]
  },
  {
   "cell_type": "code",
   "execution_count": 4,
   "metadata": {},
   "outputs": [
    {
     "data": {
      "text/plain": [
       "str"
      ]
     },
     "execution_count": 4,
     "metadata": {},
     "output_type": "execute_result"
    }
   ],
   "source": [
    "type(cpb.Date[0])"
   ]
  },
  {
   "cell_type": "code",
   "execution_count": 5,
   "metadata": {},
   "outputs": [],
   "source": [
    "# Convert 'Date' column values to datetime data type\n",
    "cpb.Date = pd.to_datetime(cpb.Date)"
   ]
  },
  {
   "cell_type": "code",
   "execution_count": 6,
   "metadata": {},
   "outputs": [
    {
     "data": {
      "text/plain": [
       "pandas._libs.tslibs.timestamps.Timestamp"
      ]
     },
     "execution_count": 6,
     "metadata": {},
     "output_type": "execute_result"
    }
   ],
   "source": [
    "type(cpb.Date[0])"
   ]
  },
  {
   "cell_type": "code",
   "execution_count": 7,
   "metadata": {},
   "outputs": [],
   "source": [
    "# Set the Date column to the index\n",
    "cpb.set_index('Date', inplace = True)"
   ]
  },
  {
   "cell_type": "code",
   "execution_count": 8,
   "metadata": {
    "scrolled": true
   },
   "outputs": [
    {
     "name": "stdout",
     "output_type": "stream",
     "text": [
      "<class 'pandas.core.frame.DataFrame'>\n",
      "DatetimeIndex: 2516 entries, 2009-12-21 to 2019-12-18\n",
      "Data columns (total 6 columns):\n",
      "Open         2516 non-null float64\n",
      "High         2516 non-null float64\n",
      "Low          2516 non-null float64\n",
      "Close        2516 non-null float64\n",
      "Adj Close    2516 non-null float64\n",
      "Volume       2516 non-null int64\n",
      "dtypes: float64(5), int64(1)\n",
      "memory usage: 137.6 KB\n"
     ]
    }
   ],
   "source": [
    "cpb.info()"
   ]
  },
  {
   "cell_type": "markdown",
   "metadata": {},
   "source": [
    "## Resampling\n",
    "\n",
    "### Down Sampling\n",
    "\n",
    "Converting the data to a less frequent interval (daily to monthly) by using the mean"
   ]
  },
  {
   "cell_type": "code",
   "execution_count": 9,
   "metadata": {},
   "outputs": [
    {
     "data": {
      "text/html": [
       "<div>\n",
       "<style scoped>\n",
       "    .dataframe tbody tr th:only-of-type {\n",
       "        vertical-align: middle;\n",
       "    }\n",
       "\n",
       "    .dataframe tbody tr th {\n",
       "        vertical-align: top;\n",
       "    }\n",
       "\n",
       "    .dataframe thead th {\n",
       "        text-align: right;\n",
       "    }\n",
       "</style>\n",
       "<table border=\"1\" class=\"dataframe\">\n",
       "  <thead>\n",
       "    <tr style=\"text-align: right;\">\n",
       "      <th></th>\n",
       "      <th>Open</th>\n",
       "      <th>High</th>\n",
       "      <th>Low</th>\n",
       "      <th>Close</th>\n",
       "      <th>Adj Close</th>\n",
       "      <th>Volume</th>\n",
       "    </tr>\n",
       "    <tr>\n",
       "      <th>Date</th>\n",
       "      <th></th>\n",
       "      <th></th>\n",
       "      <th></th>\n",
       "      <th></th>\n",
       "      <th></th>\n",
       "      <th></th>\n",
       "    </tr>\n",
       "  </thead>\n",
       "  <tbody>\n",
       "    <tr>\n",
       "      <th>2009-12-01</th>\n",
       "      <td>33.921250</td>\n",
       "      <td>34.195000</td>\n",
       "      <td>33.713750</td>\n",
       "      <td>34.051250</td>\n",
       "      <td>25.136200</td>\n",
       "      <td>1.545450e+06</td>\n",
       "    </tr>\n",
       "    <tr>\n",
       "      <th>2010-01-01</th>\n",
       "      <td>33.236316</td>\n",
       "      <td>33.434736</td>\n",
       "      <td>32.895790</td>\n",
       "      <td>33.182105</td>\n",
       "      <td>24.592518</td>\n",
       "      <td>2.430147e+06</td>\n",
       "    </tr>\n",
       "    <tr>\n",
       "      <th>2010-02-01</th>\n",
       "      <td>33.217895</td>\n",
       "      <td>33.528947</td>\n",
       "      <td>32.974736</td>\n",
       "      <td>33.294737</td>\n",
       "      <td>24.675993</td>\n",
       "      <td>2.486111e+06</td>\n",
       "    </tr>\n",
       "    <tr>\n",
       "      <th>2010-03-01</th>\n",
       "      <td>34.599565</td>\n",
       "      <td>34.833479</td>\n",
       "      <td>34.440435</td>\n",
       "      <td>34.705218</td>\n",
       "      <td>25.730214</td>\n",
       "      <td>1.924700e+06</td>\n",
       "    </tr>\n",
       "    <tr>\n",
       "      <th>2010-04-01</th>\n",
       "      <td>35.533334</td>\n",
       "      <td>35.748572</td>\n",
       "      <td>35.363333</td>\n",
       "      <td>35.574286</td>\n",
       "      <td>26.570531</td>\n",
       "      <td>1.884467e+06</td>\n",
       "    </tr>\n",
       "  </tbody>\n",
       "</table>\n",
       "</div>"
      ],
      "text/plain": [
       "                 Open       High        Low      Close  Adj Close  \\\n",
       "Date                                                                \n",
       "2009-12-01  33.921250  34.195000  33.713750  34.051250  25.136200   \n",
       "2010-01-01  33.236316  33.434736  32.895790  33.182105  24.592518   \n",
       "2010-02-01  33.217895  33.528947  32.974736  33.294737  24.675993   \n",
       "2010-03-01  34.599565  34.833479  34.440435  34.705218  25.730214   \n",
       "2010-04-01  35.533334  35.748572  35.363333  35.574286  26.570531   \n",
       "\n",
       "                  Volume  \n",
       "Date                      \n",
       "2009-12-01  1.545450e+06  \n",
       "2010-01-01  2.430147e+06  \n",
       "2010-02-01  2.486111e+06  \n",
       "2010-03-01  1.924700e+06  \n",
       "2010-04-01  1.884467e+06  "
      ]
     },
     "execution_count": 9,
     "metadata": {},
     "output_type": "execute_result"
    }
   ],
   "source": [
    "# Monthly resampling\n",
    "\n",
    "cpb_monthly= cpb.resample('MS')\n",
    "cpb_mean = cpb_monthly.mean()\n",
    "cpb_mean.head()"
   ]
  },
  {
   "cell_type": "markdown",
   "metadata": {},
   "source": [
    "### Upsampling\n",
    "\n",
    "Converting the data to a more frequent interval (daily to twice daily) by forward filling the data\n",
    "\n",
    "Note: Null rows will be created"
   ]
  },
  {
   "cell_type": "code",
   "execution_count": 10,
   "metadata": {},
   "outputs": [
    {
     "data": {
      "text/html": [
       "<div>\n",
       "<style scoped>\n",
       "    .dataframe tbody tr th:only-of-type {\n",
       "        vertical-align: middle;\n",
       "    }\n",
       "\n",
       "    .dataframe tbody tr th {\n",
       "        vertical-align: top;\n",
       "    }\n",
       "\n",
       "    .dataframe thead th {\n",
       "        text-align: right;\n",
       "    }\n",
       "</style>\n",
       "<table border=\"1\" class=\"dataframe\">\n",
       "  <thead>\n",
       "    <tr style=\"text-align: right;\">\n",
       "      <th></th>\n",
       "      <th>Open</th>\n",
       "      <th>High</th>\n",
       "      <th>Low</th>\n",
       "      <th>Close</th>\n",
       "      <th>Adj Close</th>\n",
       "      <th>Volume</th>\n",
       "    </tr>\n",
       "    <tr>\n",
       "      <th>Date</th>\n",
       "      <th></th>\n",
       "      <th></th>\n",
       "      <th></th>\n",
       "      <th></th>\n",
       "      <th></th>\n",
       "      <th></th>\n",
       "    </tr>\n",
       "  </thead>\n",
       "  <tbody>\n",
       "    <tr>\n",
       "      <th>2009-12-21 00:00:00</th>\n",
       "      <td>33.119999</td>\n",
       "      <td>33.480000</td>\n",
       "      <td>33.029999</td>\n",
       "      <td>33.470001</td>\n",
       "      <td>24.608217</td>\n",
       "      <td>1952800.0</td>\n",
       "    </tr>\n",
       "    <tr>\n",
       "      <th>2009-12-21 12:00:00</th>\n",
       "      <td>NaN</td>\n",
       "      <td>NaN</td>\n",
       "      <td>NaN</td>\n",
       "      <td>NaN</td>\n",
       "      <td>NaN</td>\n",
       "      <td>NaN</td>\n",
       "    </tr>\n",
       "    <tr>\n",
       "      <th>2009-12-22 00:00:00</th>\n",
       "      <td>33.549999</td>\n",
       "      <td>33.799999</td>\n",
       "      <td>33.389999</td>\n",
       "      <td>33.779999</td>\n",
       "      <td>24.836138</td>\n",
       "      <td>1715700.0</td>\n",
       "    </tr>\n",
       "    <tr>\n",
       "      <th>2009-12-22 12:00:00</th>\n",
       "      <td>NaN</td>\n",
       "      <td>NaN</td>\n",
       "      <td>NaN</td>\n",
       "      <td>NaN</td>\n",
       "      <td>NaN</td>\n",
       "      <td>NaN</td>\n",
       "    </tr>\n",
       "    <tr>\n",
       "      <th>2009-12-23 00:00:00</th>\n",
       "      <td>33.680000</td>\n",
       "      <td>34.369999</td>\n",
       "      <td>33.630001</td>\n",
       "      <td>34.340000</td>\n",
       "      <td>25.247873</td>\n",
       "      <td>2565000.0</td>\n",
       "    </tr>\n",
       "  </tbody>\n",
       "</table>\n",
       "</div>"
      ],
      "text/plain": [
       "                          Open       High        Low      Close  Adj Close  \\\n",
       "Date                                                                         \n",
       "2009-12-21 00:00:00  33.119999  33.480000  33.029999  33.470001  24.608217   \n",
       "2009-12-21 12:00:00        NaN        NaN        NaN        NaN        NaN   \n",
       "2009-12-22 00:00:00  33.549999  33.799999  33.389999  33.779999  24.836138   \n",
       "2009-12-22 12:00:00        NaN        NaN        NaN        NaN        NaN   \n",
       "2009-12-23 00:00:00  33.680000  34.369999  33.630001  34.340000  25.247873   \n",
       "\n",
       "                        Volume  \n",
       "Date                            \n",
       "2009-12-21 00:00:00  1952800.0  \n",
       "2009-12-21 12:00:00        NaN  \n",
       "2009-12-22 00:00:00  1715700.0  \n",
       "2009-12-22 12:00:00        NaN  \n",
       "2009-12-23 00:00:00  2565000.0  "
      ]
     },
     "execution_count": 10,
     "metadata": {},
     "output_type": "execute_result"
    }
   ],
   "source": [
    "cpb_bidaily = cpb.resample('12H').asfreq()\n",
    "cpb_bidaily.head()"
   ]
  },
  {
   "cell_type": "code",
   "execution_count": 11,
   "metadata": {},
   "outputs": [
    {
     "data": {
      "text/html": [
       "<div>\n",
       "<style scoped>\n",
       "    .dataframe tbody tr th:only-of-type {\n",
       "        vertical-align: middle;\n",
       "    }\n",
       "\n",
       "    .dataframe tbody tr th {\n",
       "        vertical-align: top;\n",
       "    }\n",
       "\n",
       "    .dataframe thead th {\n",
       "        text-align: right;\n",
       "    }\n",
       "</style>\n",
       "<table border=\"1\" class=\"dataframe\">\n",
       "  <thead>\n",
       "    <tr style=\"text-align: right;\">\n",
       "      <th></th>\n",
       "      <th>Open</th>\n",
       "      <th>High</th>\n",
       "      <th>Low</th>\n",
       "      <th>Close</th>\n",
       "      <th>Adj Close</th>\n",
       "      <th>Volume</th>\n",
       "    </tr>\n",
       "    <tr>\n",
       "      <th>Date</th>\n",
       "      <th></th>\n",
       "      <th></th>\n",
       "      <th></th>\n",
       "      <th></th>\n",
       "      <th></th>\n",
       "      <th></th>\n",
       "    </tr>\n",
       "  </thead>\n",
       "  <tbody>\n",
       "    <tr>\n",
       "      <th>2009-12-21 00:00:00</th>\n",
       "      <td>33.119999</td>\n",
       "      <td>33.480000</td>\n",
       "      <td>33.029999</td>\n",
       "      <td>33.470001</td>\n",
       "      <td>24.608217</td>\n",
       "      <td>1952800</td>\n",
       "    </tr>\n",
       "    <tr>\n",
       "      <th>2009-12-21 12:00:00</th>\n",
       "      <td>33.119999</td>\n",
       "      <td>33.480000</td>\n",
       "      <td>33.029999</td>\n",
       "      <td>33.470001</td>\n",
       "      <td>24.608217</td>\n",
       "      <td>1952800</td>\n",
       "    </tr>\n",
       "    <tr>\n",
       "      <th>2009-12-22 00:00:00</th>\n",
       "      <td>33.549999</td>\n",
       "      <td>33.799999</td>\n",
       "      <td>33.389999</td>\n",
       "      <td>33.779999</td>\n",
       "      <td>24.836138</td>\n",
       "      <td>1715700</td>\n",
       "    </tr>\n",
       "    <tr>\n",
       "      <th>2009-12-22 12:00:00</th>\n",
       "      <td>33.549999</td>\n",
       "      <td>33.799999</td>\n",
       "      <td>33.389999</td>\n",
       "      <td>33.779999</td>\n",
       "      <td>24.836138</td>\n",
       "      <td>1715700</td>\n",
       "    </tr>\n",
       "    <tr>\n",
       "      <th>2009-12-23 00:00:00</th>\n",
       "      <td>33.680000</td>\n",
       "      <td>34.369999</td>\n",
       "      <td>33.630001</td>\n",
       "      <td>34.340000</td>\n",
       "      <td>25.247873</td>\n",
       "      <td>2565000</td>\n",
       "    </tr>\n",
       "  </tbody>\n",
       "</table>\n",
       "</div>"
      ],
      "text/plain": [
       "                          Open       High        Low      Close  Adj Close  \\\n",
       "Date                                                                         \n",
       "2009-12-21 00:00:00  33.119999  33.480000  33.029999  33.470001  24.608217   \n",
       "2009-12-21 12:00:00  33.119999  33.480000  33.029999  33.470001  24.608217   \n",
       "2009-12-22 00:00:00  33.549999  33.799999  33.389999  33.779999  24.836138   \n",
       "2009-12-22 12:00:00  33.549999  33.799999  33.389999  33.779999  24.836138   \n",
       "2009-12-23 00:00:00  33.680000  34.369999  33.630001  34.340000  25.247873   \n",
       "\n",
       "                      Volume  \n",
       "Date                          \n",
       "2009-12-21 00:00:00  1952800  \n",
       "2009-12-21 12:00:00  1952800  \n",
       "2009-12-22 00:00:00  1715700  \n",
       "2009-12-22 12:00:00  1715700  \n",
       "2009-12-23 00:00:00  2565000  "
      ]
     },
     "execution_count": 11,
     "metadata": {},
     "output_type": "execute_result"
    }
   ],
   "source": [
    "# Forward fill the data\n",
    "\n",
    "cpb_bidaily_ffill = cpb.resample('12H').ffill()\n",
    "cpb_bidaily_ffill.head()"
   ]
  },
  {
   "cell_type": "code",
   "execution_count": 12,
   "metadata": {
    "scrolled": true
   },
   "outputs": [
    {
     "data": {
      "text/plain": [
       "Open         0\n",
       "High         0\n",
       "Low          0\n",
       "Close        0\n",
       "Adj Close    0\n",
       "Volume       0\n",
       "dtype: int64"
      ]
     },
     "execution_count": 12,
     "metadata": {},
     "output_type": "execute_result"
    }
   ],
   "source": [
    "# Check for null rows\n",
    "cpb.isnull().sum()"
   ]
  },
  {
   "cell_type": "markdown",
   "metadata": {},
   "source": [
    "If null rows exist you can:\n",
    "\n",
    "    -Drop the rows (loss of accuracy or valuable information)\n",
    "    -fill in with defined rules\n",
    "    -use machine learning\n",
    "    \n",
    "    \n",
    "The defined rules can be `fillna()` along with forward filling (`.ffill()`) or backward filling (`bfill()`)."
   ]
  },
  {
   "cell_type": "markdown",
   "metadata": {},
   "source": [
    "## Visualization\n",
    "\n",
    "### Plots\n",
    "\n",
    "You can use the OHLC charts for price data or a simple line chart like below:"
   ]
  },
  {
   "cell_type": "code",
   "execution_count": 13,
   "metadata": {},
   "outputs": [
    {
     "data": {
      "text/plain": [
       "Date\n",
       "2009-12-21    24.608217\n",
       "2009-12-22    24.836138\n",
       "2009-12-23    25.247873\n",
       "2009-12-24    25.372852\n",
       "2009-12-28    25.398802\n",
       "Name: Adj Close, dtype: float64"
      ]
     },
     "execution_count": 13,
     "metadata": {},
     "output_type": "execute_result"
    }
   ],
   "source": [
    "# The index is already set to the date so there is no need to\n",
    "# include it when making a chart\n",
    "cpb['Adj Close'].head()"
   ]
  },
  {
   "cell_type": "code",
   "execution_count": 17,
   "metadata": {},
   "outputs": [
    {
     "data": {
      "image/png": "[encoded data removed]",
      "text/plain": [
       "<Figure size 1152x432 with 1 Axes>"
      ]
     },
     "metadata": {
      "needs_background": "light"
     },
     "output_type": "display_data"
    }
   ],
   "source": [
    "# Draw a line plot using temp and .plot() function.\n",
    "import matplotlib.pyplot as plt\n",
    " \n",
    "cpb['Adj Close'].plot(figsize = (16,6))\n",
    "\n",
    "plt.show()"
   ]
  },
  {
   "cell_type": "code",
   "execution_count": 21,
   "metadata": {},
   "outputs": [
    {
     "data": {
      "image/png": "[encoded data removed]",
      "text/plain": [
       "<Figure size 1440x432 with 1 Axes>"
      ]
     },
     "metadata": {
      "needs_background": "light"
     },
     "output_type": "display_data"
    }
   ],
   "source": [
    "# A dot plot of the prices\n",
    "cpb['Adj Close'].plot(figsize = (20,6), style = \".b\")\n",
    "plt.show()"
   ]
  },
  {
   "cell_type": "markdown",
   "metadata": {},
   "source": [
    "### Grouping Plots"
   ]
  },
  {
   "cell_type": "code",
   "execution_count": null,
   "metadata": {},
   "outputs": [],
   "source": []
  }
 ],
 "metadata": {
  "kernelspec": {
   "display_name": "Python 3",
   "language": "python",
   "name": "python3"
  },
  "language_info": {
   "codemirror_mode": {
    "name": "ipython",
    "version": 3
   },
   "file_extension": ".py",
   "mimetype": "text/x-python",
   "name": "python",
   "nbconvert_exporter": "python",
   "pygments_lexer": "ipython3",
   "version": "3.7.2"
  }
 },
 "nbformat": 4,
 "nbformat_minor": 2
}
