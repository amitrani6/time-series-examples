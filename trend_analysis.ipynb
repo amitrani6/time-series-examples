{
 "cells": [
  {
   "cell_type": "code",
   "execution_count": 1,
   "metadata": {},
   "outputs": [],
   "source": [
    "import pandas as pd\n",
    "from datetime import date\n",
    "\n",
    "#Find an API that allows the program to pull in live stock data\n",
    "#Attempt 3: Utilizing \"UniBit API\" by Vincent Jiang\n",
    "#Site: https://unibit.ai/product\n",
    "\n",
    "import requests\n",
    "import json\n",
    "import matplotlib.pyplot as plt\n",
    "import numpy as np\n",
    "from IPython.display import clear_output\n",
    "import time\n",
    "# Set plot space as inline for inline plots and qt for external plots\n",
    "%matplotlib inline"
   ]
  },
  {
   "cell_type": "code",
   "execution_count": 2,
   "metadata": {},
   "outputs": [],
   "source": [
    "#As a general rule of thumb, don't store passwords in a main file like this!\n",
    "#Instead, you would normally store those passwords under a sub file like passwords.py which you would then import.\n",
    "#Or even better, as an environment variable that could then be imported!\n",
    "\n",
    "from passwords import api_key"
   ]
  },
  {
   "cell_type": "code",
   "execution_count": 3,
   "metadata": {},
   "outputs": [],
   "source": [
    "def retrieve_ticker_price_info(ticker, start_date, end_date = False):\n",
    "    \n",
    "    # Obtain today's date\n",
    "    today = date.today()\n",
    "    \n",
    "    # A condition to set the end date to today if there is no end date given\n",
    "    if not end_date:\n",
    "        end_date = today\n",
    "    \n",
    "    \n",
    "    url = 'https://api.unibit.ai/v2/stock/historical/?tickers={}&interval=1&startDate={}&endDate={}&selectedFields=all&dataType=json&accessKey={}'.format(ticker, start_date, end_date, api_key)\n",
    "    \n",
    "    response = requests.get(url)\n",
    "    return response.json()   "
   ]
  },
  {
   "cell_type": "code",
   "execution_count": 4,
   "metadata": {},
   "outputs": [],
   "source": [
    "def retrieve_price_history_dataframe(ticker, ticker_price_history):\n",
    "    return pd.DataFrame(ticker_price_history['result_data'][ticker])"
   ]
  },
  {
   "cell_type": "code",
   "execution_count": 5,
   "metadata": {},
   "outputs": [
    {
     "data": {
      "text/html": [
       "<div>\n",
       "<style scoped>\n",
       "    .dataframe tbody tr th:only-of-type {\n",
       "        vertical-align: middle;\n",
       "    }\n",
       "\n",
       "    .dataframe tbody tr th {\n",
       "        vertical-align: top;\n",
       "    }\n",
       "\n",
       "    .dataframe thead th {\n",
       "        text-align: right;\n",
       "    }\n",
       "</style>\n",
       "<table border=\"1\" class=\"dataframe\">\n",
       "  <thead>\n",
       "    <tr style=\"text-align: right;\">\n",
       "      <th></th>\n",
       "      <th>adj_close</th>\n",
       "      <th>close</th>\n",
       "      <th>date</th>\n",
       "      <th>high</th>\n",
       "      <th>low</th>\n",
       "      <th>open</th>\n",
       "      <th>volume</th>\n",
       "    </tr>\n",
       "  </thead>\n",
       "  <tbody>\n",
       "    <tr>\n",
       "      <th>0</th>\n",
       "      <td>47.69</td>\n",
       "      <td>47.69</td>\n",
       "      <td>2019-12-26</td>\n",
       "      <td>47.73</td>\n",
       "      <td>47.17</td>\n",
       "      <td>47.56</td>\n",
       "      <td>1270797</td>\n",
       "    </tr>\n",
       "    <tr>\n",
       "      <th>1</th>\n",
       "      <td>47.47</td>\n",
       "      <td>47.47</td>\n",
       "      <td>2019-12-24</td>\n",
       "      <td>47.56</td>\n",
       "      <td>47.00</td>\n",
       "      <td>47.33</td>\n",
       "      <td>716213</td>\n",
       "    </tr>\n",
       "    <tr>\n",
       "      <th>2</th>\n",
       "      <td>47.13</td>\n",
       "      <td>47.13</td>\n",
       "      <td>2019-12-23</td>\n",
       "      <td>47.41</td>\n",
       "      <td>46.60</td>\n",
       "      <td>47.30</td>\n",
       "      <td>1768538</td>\n",
       "    </tr>\n",
       "    <tr>\n",
       "      <th>3</th>\n",
       "      <td>47.30</td>\n",
       "      <td>47.30</td>\n",
       "      <td>2019-12-20</td>\n",
       "      <td>47.51</td>\n",
       "      <td>46.74</td>\n",
       "      <td>47.45</td>\n",
       "      <td>1199763</td>\n",
       "    </tr>\n",
       "    <tr>\n",
       "      <th>4</th>\n",
       "      <td>47.32</td>\n",
       "      <td>47.32</td>\n",
       "      <td>2019-12-19</td>\n",
       "      <td>47.72</td>\n",
       "      <td>46.99</td>\n",
       "      <td>47.67</td>\n",
       "      <td>1270897</td>\n",
       "    </tr>\n",
       "  </tbody>\n",
       "</table>\n",
       "</div>"
      ],
      "text/plain": [
       "   adj_close  close        date   high    low   open   volume\n",
       "0      47.69  47.69  2019-12-26  47.73  47.17  47.56  1270797\n",
       "1      47.47  47.47  2019-12-24  47.56  47.00  47.33   716213\n",
       "2      47.13  47.13  2019-12-23  47.41  46.60  47.30  1768538\n",
       "3      47.30  47.30  2019-12-20  47.51  46.74  47.45  1199763\n",
       "4      47.32  47.32  2019-12-19  47.72  46.99  47.67  1270897"
      ]
     },
     "execution_count": 5,
     "metadata": {},
     "output_type": "execute_result"
    }
   ],
   "source": [
    "# A test of the above functions with the 'DKS' company ticker\n",
    "\n",
    "# Obtain the price info\n",
    "dks_info = retrieve_ticker_price_info('DKS', '2019-01-01')\n",
    "\n",
    "# Create and view the dataframe\n",
    "dks_df = retrieve_price_history_dataframe('DKS', dks_info)\n",
    "dks_df.head()"
   ]
  },
  {
   "cell_type": "code",
   "execution_count": null,
   "metadata": {},
   "outputs": [],
   "source": []
  }
 ],
 "metadata": {
  "kernelspec": {
   "display_name": "Python 3",
   "language": "python",
   "name": "python3"
  },
  "language_info": {
   "codemirror_mode": {
    "name": "ipython",
    "version": 3
   },
   "file_extension": ".py",
   "mimetype": "text/x-python",
   "name": "python",
   "nbconvert_exporter": "python",
   "pygments_lexer": "ipython3",
   "version": "3.7.2"
  }
 },
 "nbformat": 4,
 "nbformat_minor": 2
}
