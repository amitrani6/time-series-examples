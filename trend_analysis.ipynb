{
 "cells": [
  {
   "cell_type": "code",
   "execution_count": null,
   "metadata": {},
   "outputs": [],
   "source": [
    "import pandas as pd\n",
    "from datetime import date\n",
    "\n",
    "#Find an API that allows the program to pull in live stock data\n",
    "#Attempt 3: Utilizing \"UniBit API\" by Vincent Jiang\n",
    "#Site: https://unibit.ai/product\n",
    "\n",
    "import requests\n",
    "import json\n",
    "import matplotlib.pyplot as plt\n",
    "import numpy as np\n",
    "from IPython.display import clear_output\n",
    "import time\n",
    "# Set plot space as inline for inline plots and qt for external plots\n",
    "%matplotlib inline"
   ]
  },
  {
   "cell_type": "code",
   "execution_count": 3,
   "metadata": {},
   "outputs": [],
   "source": [
    "#As a general rule of thumb, don't store passwords in a main file like this!\n",
    "#Instead, you would normally store those passwords under a sub file like passwords.py which you would then import.\n",
    "#Or even better, as an environment variable that could then be imported!\n",
    "\n",
    "from passwords import api_key"
   ]
  },
  {
   "cell_type": "code",
   "execution_count": 4,
   "metadata": {},
   "outputs": [
    {
     "name": "stdout",
     "output_type": "stream",
     "text": [
      "<Response [200]>\n"
     ]
    }
   ],
   "source": [
    "ticker = 'AAPL'\n",
    "\n",
    "url = 'https://api.unibit.ai/v2/stock/historical/?tickers={}&interval=1&startDate=2019-01-01&endDate=2019-12-01&selectedFields=all&dataType=json&accessKey={}'.format(ticker, api_key)\n",
    "\n",
    "response = requests.get(url)\n",
    "print(response)"
   ]
  },
  {
   "cell_type": "code",
   "execution_count": 5,
   "metadata": {},
   "outputs": [
    {
     "data": {
      "text/html": [
       "<div>\n",
       "<style scoped>\n",
       "    .dataframe tbody tr th:only-of-type {\n",
       "        vertical-align: middle;\n",
       "    }\n",
       "\n",
       "    .dataframe tbody tr th {\n",
       "        vertical-align: top;\n",
       "    }\n",
       "\n",
       "    .dataframe thead th {\n",
       "        text-align: right;\n",
       "    }\n",
       "</style>\n",
       "<table border=\"1\" class=\"dataframe\">\n",
       "  <thead>\n",
       "    <tr style=\"text-align: right;\">\n",
       "      <th></th>\n",
       "      <th>adj_close</th>\n",
       "      <th>close</th>\n",
       "      <th>date</th>\n",
       "      <th>high</th>\n",
       "      <th>low</th>\n",
       "      <th>open</th>\n",
       "      <th>volume</th>\n",
       "    </tr>\n",
       "  </thead>\n",
       "  <tbody>\n",
       "    <tr>\n",
       "      <th>0</th>\n",
       "      <td>264.16</td>\n",
       "      <td>264.16</td>\n",
       "      <td>2019-12-02</td>\n",
       "      <td>268.250</td>\n",
       "      <td>263.45</td>\n",
       "      <td>267.27</td>\n",
       "      <td>22461876</td>\n",
       "    </tr>\n",
       "    <tr>\n",
       "      <th>1</th>\n",
       "      <td>267.25</td>\n",
       "      <td>267.25</td>\n",
       "      <td>2019-11-29</td>\n",
       "      <td>267.990</td>\n",
       "      <td>265.90</td>\n",
       "      <td>266.60</td>\n",
       "      <td>10584652</td>\n",
       "    </tr>\n",
       "    <tr>\n",
       "      <th>2</th>\n",
       "      <td>267.84</td>\n",
       "      <td>267.84</td>\n",
       "      <td>2019-11-27</td>\n",
       "      <td>267.980</td>\n",
       "      <td>265.31</td>\n",
       "      <td>265.58</td>\n",
       "      <td>15342229</td>\n",
       "    </tr>\n",
       "    <tr>\n",
       "      <th>3</th>\n",
       "      <td>264.29</td>\n",
       "      <td>264.29</td>\n",
       "      <td>2019-11-26</td>\n",
       "      <td>267.041</td>\n",
       "      <td>262.50</td>\n",
       "      <td>266.94</td>\n",
       "      <td>14806677</td>\n",
       "    </tr>\n",
       "    <tr>\n",
       "      <th>4</th>\n",
       "      <td>266.37</td>\n",
       "      <td>266.37</td>\n",
       "      <td>2019-11-25</td>\n",
       "      <td>266.430</td>\n",
       "      <td>262.52</td>\n",
       "      <td>262.71</td>\n",
       "      <td>15108577</td>\n",
       "    </tr>\n",
       "  </tbody>\n",
       "</table>\n",
       "</div>"
      ],
      "text/plain": [
       "   adj_close   close        date     high     low    open    volume\n",
       "0     264.16  264.16  2019-12-02  268.250  263.45  267.27  22461876\n",
       "1     267.25  267.25  2019-11-29  267.990  265.90  266.60  10584652\n",
       "2     267.84  267.84  2019-11-27  267.980  265.31  265.58  15342229\n",
       "3     264.29  264.29  2019-11-26  267.041  262.50  266.94  14806677\n",
       "4     266.37  266.37  2019-11-25  266.430  262.52  262.71  15108577"
      ]
     },
     "execution_count": 5,
     "metadata": {},
     "output_type": "execute_result"
    }
   ],
   "source": [
    "test_df = pd.DataFrame(response.json()['result_data'][ticker])\n",
    "\n",
    "test_df.head()"
   ]
  },
  {
   "cell_type": "code",
   "execution_count": null,
   "metadata": {},
   "outputs": [],
   "source": [
    "test_df.info()"
   ]
  },
  {
   "cell_type": "code",
   "execution_count": 8,
   "metadata": {},
   "outputs": [],
   "source": [
    "def retrieve_ticker_price_info(ticker, start_date, end_date = False):\n",
    "    \n",
    "    # Obtain today's date\n",
    "    today = date.today()\n",
    "    \n",
    "    # A condition to set the end date to today if there is no end date given\n",
    "    if not end_date:\n",
    "        end_date = today\n",
    "    \n",
    "    \n",
    "    url = 'https://api.unibit.ai/v2/stock/historical/?tickers={}&interval=1&startDate={}&endDate={}&selectedFields=all&dataType=json&accessKey={}'.format(ticker, start_date, end_date, api_key)\n",
    "    \n",
    "    response = requests.get(url)\n",
    "    return response.json()   "
   ]
  },
  {
   "cell_type": "code",
   "execution_count": null,
   "metadata": {},
   "outputs": [],
   "source": [
    "def retrieve_price"
   ]
  },
  {
   "cell_type": "code",
   "execution_count": null,
   "metadata": {},
   "outputs": [],
   "source": [
    "test_retrieve_current_price_info('DKS', '2019-01-01') "
   ]
  }
 ],
 "metadata": {
  "kernelspec": {
   "display_name": "Python 3",
   "language": "python",
   "name": "python3"
  },
  "language_info": {
   "codemirror_mode": {
    "name": "ipython",
    "version": 3
   },
   "file_extension": ".py",
   "mimetype": "text/x-python",
   "name": "python",
   "nbconvert_exporter": "python",
   "pygments_lexer": "ipython3",
   "version": "3.7.2"
  }
 },
 "nbformat": 4,
 "nbformat_minor": 2
}
